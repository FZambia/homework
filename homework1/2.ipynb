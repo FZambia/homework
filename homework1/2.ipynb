{
 "cells": [
  {
   "cell_type": "code",
   "execution_count": 1,
   "metadata": {},
   "outputs": [
    {
     "name": "stdout",
     "output_type": "stream",
     "text": [
      "4613730\n"
     ]
    }
   ],
   "source": [
    "fibon1 = 1\n",
    "fibon2 = 2\n",
    "\n",
    "sum = 0\n",
    "while fibon2 <= 4_000_000:\n",
    "    fibon2, fibon1 = fibon2 + fibon1, fibon2\n",
    "    if fibon2 % 2 == 0:\n",
    "        sum += fibon2\n",
    "        \n",
    "print(sum)"
   ]
  },
  {
   "cell_type": "code",
   "execution_count": null,
   "metadata": {},
   "outputs": [],
   "source": []
  }
 ],
 "metadata": {
  "kernelspec": {
   "display_name": "Python 3",
   "language": "python",
   "name": "python3"
  },
  "language_info": {
   "codemirror_mode": {
    "name": "ipython",
    "version": 3
   },
   "file_extension": ".py",
   "mimetype": "text/x-python",
   "name": "python",
   "nbconvert_exporter": "python",
   "pygments_lexer": "ipython3",
   "version": "3.6.1"
  }
 },
 "nbformat": 4,
 "nbformat_minor": 2
}
