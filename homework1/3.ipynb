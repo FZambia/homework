{
 "cells": [
  {
   "cell_type": "code",
   "execution_count": 1,
   "metadata": {},
   "outputs": [
    {
     "name": "stdout",
     "output_type": "stream",
     "text": [
      "906609\n"
     ]
    }
   ],
   "source": [
    "pol = 0\n",
    "prom = 0\n",
    "maxpol = 0\n",
    "for i in range (100, 1000):\n",
    "    for j in range (100, 1000):\n",
    "        prom = str(i * j)\n",
    "        if prom == prom[::-1]:\n",
    "            pol = prom\n",
    "            pol = int(pol)\n",
    "            if pol > maxpol:\n",
    "                maxpol = pol\n",
    "print(maxpol)"
   ]
  },
  {
   "cell_type": "code",
   "execution_count": null,
   "metadata": {},
   "outputs": [],
   "source": []
  }
 ],
 "metadata": {
  "kernelspec": {
   "display_name": "Python 3",
   "language": "python",
   "name": "python3"
  },
  "language_info": {
   "codemirror_mode": {
    "name": "ipython",
    "version": 3
   },
   "file_extension": ".py",
   "mimetype": "text/x-python",
   "name": "python",
   "nbconvert_exporter": "python",
   "pygments_lexer": "ipython3",
   "version": "3.6.1"
  }
 },
 "nbformat": 4,
 "nbformat_minor": 2
}
